{
 "cells": [
  {
   "cell_type": "code",
   "execution_count": 1,
   "metadata": {},
   "outputs": [],
   "source": [
    "from datasets import load_dataset, load_metric, Audio, Dataset\n",
    "from tqdm.auto import tqdm\n",
    "\n",
    "import os\n",
    "import numpy as np\n",
    "import pandas as pd\n",
    "import torchaudio\n",
    "\n",
    "os.environ[\"WANDB_DISABLED\"] = \"true\""
   ]
  },
  {
   "cell_type": "code",
   "execution_count": 2,
   "metadata": {},
   "outputs": [],
   "source": [
    "timit_path = '/Users/daiyi/Downloads/timit/'\n",
    "data_path = '/Users/daiyi/Downloads/timit/data'\n"
   ]
  },
  {
   "cell_type": "code",
   "execution_count": 3,
   "metadata": {},
   "outputs": [],
   "source": [
    "df_train = pd.read_csv(os.path.join(timit_path, 'train_data.csv'))\n",
    "df_test = pd.read_csv(os.path.join(timit_path, 'test_data.csv'))\n",
    "df = pd.concat([df_train, df_test])\n",
    "df = df[df['is_converted_audio'] == False]"
   ]
  },
  {
   "cell_type": "code",
   "execution_count": 4,
   "metadata": {},
   "outputs": [
    {
     "data": {
      "text/html": [
       "<div>\n",
       "<style scoped>\n",
       "    .dataframe tbody tr th:only-of-type {\n",
       "        vertical-align: middle;\n",
       "    }\n",
       "\n",
       "    .dataframe tbody tr th {\n",
       "        vertical-align: top;\n",
       "    }\n",
       "\n",
       "    .dataframe thead th {\n",
       "        text-align: right;\n",
       "    }\n",
       "</style>\n",
       "<table border=\"1\" class=\"dataframe\">\n",
       "  <thead>\n",
       "    <tr style=\"text-align: right;\">\n",
       "      <th></th>\n",
       "      <th>index</th>\n",
       "      <th>test_or_train</th>\n",
       "      <th>dialect_region</th>\n",
       "      <th>speaker_id</th>\n",
       "      <th>filename</th>\n",
       "      <th>path_from_data_dir</th>\n",
       "      <th>path_from_data_dir_windows</th>\n",
       "      <th>is_converted_audio</th>\n",
       "      <th>is_audio</th>\n",
       "      <th>is_word_file</th>\n",
       "      <th>is_phonetic_file</th>\n",
       "      <th>is_sentence_file</th>\n",
       "    </tr>\n",
       "  </thead>\n",
       "  <tbody>\n",
       "    <tr>\n",
       "      <th>1</th>\n",
       "      <td>2.0</td>\n",
       "      <td>TRAIN</td>\n",
       "      <td>DR4</td>\n",
       "      <td>MMDM0</td>\n",
       "      <td>SI1311.PHN</td>\n",
       "      <td>TRAIN/DR4/MMDM0/SI1311.PHN</td>\n",
       "      <td>TRAIN\\\\DR4\\\\MMDM0\\\\SI1311.PHN</td>\n",
       "      <td>False</td>\n",
       "      <td>False</td>\n",
       "      <td>False</td>\n",
       "      <td>True</td>\n",
       "      <td>False</td>\n",
       "    </tr>\n",
       "    <tr>\n",
       "      <th>2</th>\n",
       "      <td>3.0</td>\n",
       "      <td>TRAIN</td>\n",
       "      <td>DR4</td>\n",
       "      <td>MMDM0</td>\n",
       "      <td>SI1311.WRD</td>\n",
       "      <td>TRAIN/DR4/MMDM0/SI1311.WRD</td>\n",
       "      <td>TRAIN\\\\DR4\\\\MMDM0\\\\SI1311.WRD</td>\n",
       "      <td>False</td>\n",
       "      <td>False</td>\n",
       "      <td>True</td>\n",
       "      <td>False</td>\n",
       "      <td>False</td>\n",
       "    </tr>\n",
       "    <tr>\n",
       "      <th>3</th>\n",
       "      <td>4.0</td>\n",
       "      <td>TRAIN</td>\n",
       "      <td>DR4</td>\n",
       "      <td>MMDM0</td>\n",
       "      <td>SX321.PHN</td>\n",
       "      <td>TRAIN/DR4/MMDM0/SX321.PHN</td>\n",
       "      <td>TRAIN\\\\DR4\\\\MMDM0\\\\SX321.PHN</td>\n",
       "      <td>False</td>\n",
       "      <td>False</td>\n",
       "      <td>False</td>\n",
       "      <td>True</td>\n",
       "      <td>False</td>\n",
       "    </tr>\n",
       "    <tr>\n",
       "      <th>4</th>\n",
       "      <td>5.0</td>\n",
       "      <td>TRAIN</td>\n",
       "      <td>DR4</td>\n",
       "      <td>MMDM0</td>\n",
       "      <td>SX321.WRD</td>\n",
       "      <td>TRAIN/DR4/MMDM0/SX321.WRD</td>\n",
       "      <td>TRAIN\\\\DR4\\\\MMDM0\\\\SX321.WRD</td>\n",
       "      <td>False</td>\n",
       "      <td>False</td>\n",
       "      <td>True</td>\n",
       "      <td>False</td>\n",
       "      <td>False</td>\n",
       "    </tr>\n",
       "    <tr>\n",
       "      <th>5</th>\n",
       "      <td>6.0</td>\n",
       "      <td>TRAIN</td>\n",
       "      <td>DR4</td>\n",
       "      <td>MMDM0</td>\n",
       "      <td>SI681.TXT</td>\n",
       "      <td>TRAIN/DR4/MMDM0/SI681.TXT</td>\n",
       "      <td>TRAIN\\\\DR4\\\\MMDM0\\\\SI681.TXT</td>\n",
       "      <td>False</td>\n",
       "      <td>False</td>\n",
       "      <td>False</td>\n",
       "      <td>False</td>\n",
       "      <td>True</td>\n",
       "    </tr>\n",
       "    <tr>\n",
       "      <th>...</th>\n",
       "      <td>...</td>\n",
       "      <td>...</td>\n",
       "      <td>...</td>\n",
       "      <td>...</td>\n",
       "      <td>...</td>\n",
       "      <td>...</td>\n",
       "      <td>...</td>\n",
       "      <td>...</td>\n",
       "      <td>...</td>\n",
       "      <td>...</td>\n",
       "      <td>...</td>\n",
       "      <td>...</td>\n",
       "    </tr>\n",
       "    <tr>\n",
       "      <th>8394</th>\n",
       "      <td>8395.0</td>\n",
       "      <td>TEST</td>\n",
       "      <td>DR8</td>\n",
       "      <td>MPAM0</td>\n",
       "      <td>SX19.WAV</td>\n",
       "      <td>TEST/DR8/MPAM0/SX19.WAV</td>\n",
       "      <td>TEST\\\\DR8\\\\MPAM0\\\\SX19.WAV</td>\n",
       "      <td>False</td>\n",
       "      <td>True</td>\n",
       "      <td>False</td>\n",
       "      <td>False</td>\n",
       "      <td>False</td>\n",
       "    </tr>\n",
       "    <tr>\n",
       "      <th>8395</th>\n",
       "      <td>8396.0</td>\n",
       "      <td>TEST</td>\n",
       "      <td>DR8</td>\n",
       "      <td>MPAM0</td>\n",
       "      <td>SX109.TXT</td>\n",
       "      <td>TEST/DR8/MPAM0/SX109.TXT</td>\n",
       "      <td>TEST\\\\DR8\\\\MPAM0\\\\SX109.TXT</td>\n",
       "      <td>False</td>\n",
       "      <td>False</td>\n",
       "      <td>False</td>\n",
       "      <td>False</td>\n",
       "      <td>True</td>\n",
       "    </tr>\n",
       "    <tr>\n",
       "      <th>8397</th>\n",
       "      <td>8398.0</td>\n",
       "      <td>TEST</td>\n",
       "      <td>DR8</td>\n",
       "      <td>MPAM0</td>\n",
       "      <td>SX289.WRD</td>\n",
       "      <td>TEST/DR8/MPAM0/SX289.WRD</td>\n",
       "      <td>TEST\\\\DR8\\\\MPAM0\\\\SX289.WRD</td>\n",
       "      <td>False</td>\n",
       "      <td>False</td>\n",
       "      <td>True</td>\n",
       "      <td>False</td>\n",
       "      <td>False</td>\n",
       "    </tr>\n",
       "    <tr>\n",
       "      <th>8398</th>\n",
       "      <td>8399.0</td>\n",
       "      <td>TEST</td>\n",
       "      <td>DR8</td>\n",
       "      <td>MPAM0</td>\n",
       "      <td>SX109.WAV</td>\n",
       "      <td>TEST/DR8/MPAM0/SX109.WAV</td>\n",
       "      <td>TEST\\\\DR8\\\\MPAM0\\\\SX109.WAV</td>\n",
       "      <td>False</td>\n",
       "      <td>True</td>\n",
       "      <td>False</td>\n",
       "      <td>False</td>\n",
       "      <td>False</td>\n",
       "    </tr>\n",
       "    <tr>\n",
       "      <th>8399</th>\n",
       "      <td>8400.0</td>\n",
       "      <td>TEST</td>\n",
       "      <td>DR8</td>\n",
       "      <td>MPAM0</td>\n",
       "      <td>SX289.PHN</td>\n",
       "      <td>TEST/DR8/MPAM0/SX289.PHN</td>\n",
       "      <td>TEST\\\\DR8\\\\MPAM0\\\\SX289.PHN</td>\n",
       "      <td>False</td>\n",
       "      <td>False</td>\n",
       "      <td>False</td>\n",
       "      <td>True</td>\n",
       "      <td>False</td>\n",
       "    </tr>\n",
       "  </tbody>\n",
       "</table>\n",
       "<p>25200 rows × 12 columns</p>\n",
       "</div>"
      ],
      "text/plain": [
       "       index test_or_train dialect_region speaker_id    filename  \\\n",
       "1        2.0         TRAIN            DR4      MMDM0  SI1311.PHN   \n",
       "2        3.0         TRAIN            DR4      MMDM0  SI1311.WRD   \n",
       "3        4.0         TRAIN            DR4      MMDM0   SX321.PHN   \n",
       "4        5.0         TRAIN            DR4      MMDM0   SX321.WRD   \n",
       "5        6.0         TRAIN            DR4      MMDM0   SI681.TXT   \n",
       "...      ...           ...            ...        ...         ...   \n",
       "8394  8395.0          TEST            DR8      MPAM0    SX19.WAV   \n",
       "8395  8396.0          TEST            DR8      MPAM0   SX109.TXT   \n",
       "8397  8398.0          TEST            DR8      MPAM0   SX289.WRD   \n",
       "8398  8399.0          TEST            DR8      MPAM0   SX109.WAV   \n",
       "8399  8400.0          TEST            DR8      MPAM0   SX289.PHN   \n",
       "\n",
       "              path_from_data_dir     path_from_data_dir_windows  \\\n",
       "1     TRAIN/DR4/MMDM0/SI1311.PHN  TRAIN\\\\DR4\\\\MMDM0\\\\SI1311.PHN   \n",
       "2     TRAIN/DR4/MMDM0/SI1311.WRD  TRAIN\\\\DR4\\\\MMDM0\\\\SI1311.WRD   \n",
       "3      TRAIN/DR4/MMDM0/SX321.PHN   TRAIN\\\\DR4\\\\MMDM0\\\\SX321.PHN   \n",
       "4      TRAIN/DR4/MMDM0/SX321.WRD   TRAIN\\\\DR4\\\\MMDM0\\\\SX321.WRD   \n",
       "5      TRAIN/DR4/MMDM0/SI681.TXT   TRAIN\\\\DR4\\\\MMDM0\\\\SI681.TXT   \n",
       "...                          ...                            ...   \n",
       "8394     TEST/DR8/MPAM0/SX19.WAV     TEST\\\\DR8\\\\MPAM0\\\\SX19.WAV   \n",
       "8395    TEST/DR8/MPAM0/SX109.TXT    TEST\\\\DR8\\\\MPAM0\\\\SX109.TXT   \n",
       "8397    TEST/DR8/MPAM0/SX289.WRD    TEST\\\\DR8\\\\MPAM0\\\\SX289.WRD   \n",
       "8398    TEST/DR8/MPAM0/SX109.WAV    TEST\\\\DR8\\\\MPAM0\\\\SX109.WAV   \n",
       "8399    TEST/DR8/MPAM0/SX289.PHN    TEST\\\\DR8\\\\MPAM0\\\\SX289.PHN   \n",
       "\n",
       "     is_converted_audio is_audio is_word_file is_phonetic_file  \\\n",
       "1                 False    False        False             True   \n",
       "2                 False    False         True            False   \n",
       "3                 False    False        False             True   \n",
       "4                 False    False         True            False   \n",
       "5                 False    False        False            False   \n",
       "...                 ...      ...          ...              ...   \n",
       "8394              False     True        False            False   \n",
       "8395              False    False        False            False   \n",
       "8397              False    False         True            False   \n",
       "8398              False     True        False            False   \n",
       "8399              False    False        False             True   \n",
       "\n",
       "     is_sentence_file  \n",
       "1               False  \n",
       "2               False  \n",
       "3               False  \n",
       "4               False  \n",
       "5                True  \n",
       "...               ...  \n",
       "8394            False  \n",
       "8395             True  \n",
       "8397            False  \n",
       "8398            False  \n",
       "8399            False  \n",
       "\n",
       "[25200 rows x 12 columns]"
      ]
     },
     "execution_count": 4,
     "metadata": {},
     "output_type": "execute_result"
    }
   ],
   "source": [
    "df"
   ]
  },
  {
   "cell_type": "code",
   "execution_count": 5,
   "metadata": {},
   "outputs": [
    {
     "data": {
      "application/vnd.jupyter.widget-view+json": {
       "model_id": "7ef04c2751e248d3b4a5455da619ce01",
       "version_major": 2,
       "version_minor": 0
      },
      "text/plain": [
       "0it [00:00, ?it/s]"
      ]
     },
     "metadata": {},
     "output_type": "display_data"
    }
   ],
   "source": [
    "data = {}\n",
    "\n",
    "for idx, row in tqdm(df.iterrows()):\n",
    "    path = row['path_from_data_dir']\n",
    "    entry_id = path.split('.')[0]\n",
    "\n",
    "    if entry_id not in data:\n",
    "        data[entry_id] = {}\n",
    "\n",
    "    if row['is_audio'] is True:\n",
    "        data[entry_id]['audio_file'] = os.path.join(data_path, path)\n",
    "    elif row['is_word_file'] is True:\n",
    "        data[entry_id]['word_file'] = os.path.join(data_path, path)\n",
    "    elif row['is_phonetic_file'] is True:\n",
    "        data[entry_id]['phonetic_file'] = os.path.join(data_path, path)"
   ]
  },
  {
   "cell_type": "code",
   "execution_count": 6,
   "metadata": {},
   "outputs": [],
   "source": [
    "import random\n",
    "\n",
    "keys = [key for key in data.keys() if len(data[key]) == 3]\n",
    "random.Random(101).shuffle(keys)\n",
    "\n",
    "num_train = int(len(keys) * 0.8)\n",
    "num_valid = int(len(keys) * 0.1)\n",
    "num_test = len(keys) - num_train - num_valid\n",
    "\n",
    "train_keys = keys[:num_train]\n",
    "valid_keys = keys[num_train:num_train + num_valid]\n",
    "test_keys = keys[-num_test:]"
   ]
  },
  {
   "cell_type": "code",
   "execution_count": 7,
   "metadata": {},
   "outputs": [],
   "source": [
    "train = { key:data[key] for key in train_keys }\n",
    "valid = { key:data[key] for key in valid_keys }\n",
    "test  = { key:data[key] for key in test_keys }"
   ]
  },
  {
   "cell_type": "code",
   "execution_count": 8,
   "metadata": {},
   "outputs": [],
   "source": [
    "import librosa\n",
    "\n",
    "def get_durations(dict_data):\n",
    "    total_durations = 0\n",
    "\n",
    "    for entry in dict_data.values():\n",
    "        audio_data, _ = librosa.load(entry['audio_file'], sr=16_000)\n",
    "        duration = len(audio_data) / 16_000\n",
    "        total_durations += duration\n",
    "\n",
    "    return int(total_durations)"
   ]
  },
  {
   "cell_type": "code",
   "execution_count": 9,
   "metadata": {},
   "outputs": [
    {
     "name": "stdout",
     "output_type": "stream",
     "text": [
      "Duration of Train: 137 mns\n",
      "Duration of Valid: 17 mns\n",
      "Duration of Test : 17 mns\n"
     ]
    }
   ],
   "source": [
    "print(f\"Duration of Train: {get_durations(train) // 60} mns\")\n",
    "print(f\"Duration of Valid: {get_durations(valid) // 60} mns\")\n",
    "print(f\"Duration of Test : {get_durations(test) // 60} mns\")"
   ]
  },
  {
   "cell_type": "code",
   "execution_count": 10,
   "metadata": {},
   "outputs": [],
   "source": [
    "import json\n",
    "\n",
    "with open(\"custom_train.json\", \"w\") as f:\n",
    "    json.dump(train, f)\n",
    "with open(\"custom_valid.json\", \"w\") as f:\n",
    "    json.dump(valid, f)\n",
    "with open(\"custom_test.json\", \"w\") as f:\n",
    "    json.dump(test, f)"
   ]
  },
  {
   "cell_type": "code",
   "execution_count": 11,
   "metadata": {},
   "outputs": [],
   "source": [
    "def convert_to_feature_dict(data_dict):\n",
    "    # convert each feature into an array instead\n",
    "    audio_files = []\n",
    "    word_files = []\n",
    "    phonetic_files = []\n",
    "    for key, value in data_dict.items():\n",
    "        audio_files.append(value['audio_file'])\n",
    "        word_files.append(value['word_file'])\n",
    "        phonetic_files.append(value['phonetic_file'])\n",
    "    \n",
    "    return {\n",
    "        'audio_file': audio_files,\n",
    "        'word_file': word_files,\n",
    "        'phonetic_file': phonetic_files\n",
    "    }"
   ]
  },
  {
   "cell_type": "code",
   "execution_count": 12,
   "metadata": {},
   "outputs": [],
   "source": [
    "train = convert_to_feature_dict(train)\n",
    "valid = convert_to_feature_dict(valid)\n",
    "test  = convert_to_feature_dict(test)\n",
    "train_dataset = Dataset.from_dict(train)\n",
    "valid_dataset = Dataset.from_dict(valid)\n",
    "test_dataset = Dataset.from_dict(test)"
   ]
  },
  {
   "cell_type": "code",
   "execution_count": 13,
   "metadata": {},
   "outputs": [
    {
     "name": "stdout",
     "output_type": "stream",
     "text": [
      "Dataset({\n",
      "    features: ['audio_file', 'word_file', 'phonetic_file'],\n",
      "    num_rows: 2688\n",
      "})\n"
     ]
    }
   ],
   "source": [
    "print(train_dataset)"
   ]
  },
  {
   "cell_type": "code",
   "execution_count": 14,
   "metadata": {},
   "outputs": [],
   "source": [
    "def read_text_file(filepath):\n",
    "    with open(filepath) as f:\n",
    "        tokens = [line.split()[-1] for line in f]\n",
    "        return \" \".join(tokens)\n",
    "    \n",
    "def prepare_text_data(item):\n",
    "    item['text'] = read_text_file(item['word_file'])\n",
    "    item['phonetic'] = read_text_file(item['phonetic_file'])\n",
    "    return item"
   ]
  },
  {
   "cell_type": "code",
   "execution_count": 15,
   "metadata": {},
   "outputs": [
    {
     "data": {
      "application/vnd.jupyter.widget-view+json": {
       "model_id": "e50cf940401a4ffca4d7dde7618a0ee4",
       "version_major": 2,
       "version_minor": 0
      },
      "text/plain": [
       "Map:   0%|          | 0/2688 [00:00<?, ? examples/s]"
      ]
     },
     "metadata": {},
     "output_type": "display_data"
    },
    {
     "data": {
      "application/vnd.jupyter.widget-view+json": {
       "model_id": "dbca014b726a4c3aa52fb3ecd133eace",
       "version_major": 2,
       "version_minor": 0
      },
      "text/plain": [
       "Map:   0%|          | 0/336 [00:00<?, ? examples/s]"
      ]
     },
     "metadata": {},
     "output_type": "display_data"
    },
    {
     "data": {
      "application/vnd.jupyter.widget-view+json": {
       "model_id": "09cdc602efee45b7bf4749157d33f948",
       "version_major": 2,
       "version_minor": 0
      },
      "text/plain": [
       "Map:   0%|          | 0/336 [00:00<?, ? examples/s]"
      ]
     },
     "metadata": {},
     "output_type": "display_data"
    }
   ],
   "source": [
    "train_dataset = (train_dataset\n",
    "                 .map(prepare_text_data)\n",
    "                 .remove_columns([\"word_file\", \"phonetic_file\"]))\n",
    "valid_dataset = (valid_dataset\n",
    "                 .map(prepare_text_data)\n",
    "                 .remove_columns([\"word_file\", \"phonetic_file\"]))\n",
    "test_dataset  = (test_dataset\n",
    "                 .map(prepare_text_data)\n",
    "                 .remove_columns([\"word_file\", \"phonetic_file\"]))"
   ]
  },
  {
   "cell_type": "code",
   "execution_count": 16,
   "metadata": {},
   "outputs": [
    {
     "name": "stdout",
     "output_type": "stream",
     "text": [
      "num of train phones:\t 61\n"
     ]
    }
   ],
   "source": [
    "train_phonetics = [phone for x in train_dataset for phone in x['phonetic'].split()]\n",
    "print(\"num of train phones:\\t\", len(set(train_phonetics)))"
   ]
  },
  {
   "cell_type": "code",
   "execution_count": 17,
   "metadata": {},
   "outputs": [],
   "source": [
    "# TimitBet 61 phoneme mapping to 39 phonemes\n",
    "# by Lee, K.-F., & Hon, H.-W. (1989). Speaker-independent phone recognition using hidden Markov models. IEEE Transactions on Acoustics, Speech, and Signal Processing, 37(11), 1641–1648. doi:10.1109/29.46546 \n",
    "phon61_map39 = {\n",
    "    'iy':'iy',  'ih':'ih',   'eh':'eh',  'ae':'ae',    'ix':'ih',  'ax':'ah',   'ah':'ah',  'uw':'uw',\n",
    "    'ux':'uw',  'uh':'uh',   'ao':'aa',  'aa':'aa',    'ey':'ey',  'ay':'ay',   'oy':'oy',  'aw':'aw',\n",
    "    'ow':'ow',  'l':'l',     'el':'l',  'r':'r',      'y':'y',    'w':'w',     'er':'er',  'axr':'er',\n",
    "    'm':'m',    'em':'m',     'n':'n',    'nx':'n',     'en':'n',  'ng':'ng',   'eng':'ng', 'ch':'ch',\n",
    "    'jh':'jh',  'dh':'dh',   'b':'b',    'd':'d',      'dx':'dx',  'g':'g',     'p':'p',    't':'t',\n",
    "    'k':'k',    'z':'z',     'zh':'sh',  'v':'v',      'f':'f',    'th':'th',   's':'s',    'sh':'sh',\n",
    "    'hh':'hh',  'hv':'hh',   'pcl':'h#', 'tcl':'h#', 'kcl':'h#', 'qcl':'h#','bcl':'h#','dcl':'h#',\n",
    "    'gcl':'h#','h#':'h#',  '#h':'h#',  'pau':'h#', 'epi': 'h#','nx':'n',   'ax-h':'ah','q':'h#' \n",
    "}\n",
    "\n",
    "def convert_phon61_to_phon39(sentence):\n",
    "    tokens = [phon61_map39[x] for x in sentence.split()]\n",
    "    return \" \".join(tokens)\n",
    "\n",
    "def normalize_phones(item):\n",
    "    item['phonetic'] = convert_phon61_to_phon39(item['phonetic'])\n",
    "    return item"
   ]
  },
  {
   "cell_type": "code",
   "execution_count": 18,
   "metadata": {},
   "outputs": [
    {
     "data": {
      "application/vnd.jupyter.widget-view+json": {
       "model_id": "81c230bb4e7746c2bde121d28e0d8d4c",
       "version_major": 2,
       "version_minor": 0
      },
      "text/plain": [
       "Map:   0%|          | 0/2688 [00:00<?, ? examples/s]"
      ]
     },
     "metadata": {},
     "output_type": "display_data"
    },
    {
     "data": {
      "application/vnd.jupyter.widget-view+json": {
       "model_id": "ffb51c67e41749e4a7094ec15018ebdf",
       "version_major": 2,
       "version_minor": 0
      },
      "text/plain": [
       "Map:   0%|          | 0/336 [00:00<?, ? examples/s]"
      ]
     },
     "metadata": {},
     "output_type": "display_data"
    },
    {
     "data": {
      "application/vnd.jupyter.widget-view+json": {
       "model_id": "5c5f0ded573d4975ad81f644e85e9e0a",
       "version_major": 2,
       "version_minor": 0
      },
      "text/plain": [
       "Map:   0%|          | 0/336 [00:00<?, ? examples/s]"
      ]
     },
     "metadata": {},
     "output_type": "display_data"
    }
   ],
   "source": [
    "train_dataset = train_dataset.map(normalize_phones)\n",
    "valid_dataset = valid_dataset.map(normalize_phones)\n",
    "test_dataset = test_dataset.map(normalize_phones)"
   ]
  },
  {
   "cell_type": "code",
   "execution_count": 19,
   "metadata": {},
   "outputs": [
    {
     "name": "stdout",
     "output_type": "stream",
     "text": [
      "num of train phones:\t 39\n",
      "num of valid phones:\t 39\n",
      "num of test phones:\t 39\n"
     ]
    }
   ],
   "source": [
    "train_phonetics = [phone for x in train_dataset for phone in x['phonetic'].split()]\n",
    "valid_phonetics = [phone for x in valid_dataset for phone in x['phonetic'].split()]\n",
    "test_phonetics = [phone for x in test_dataset for phone in x['phonetic'].split()]\n",
    "\n",
    "print(\"num of train phones:\\t\", len(set(train_phonetics)))\n",
    "print(\"num of valid phones:\\t\", len(set(valid_phonetics)))\n",
    "print(\"num of test phones:\\t\", len(set(test_phonetics)))"
   ]
  },
  {
   "cell_type": "code",
   "execution_count": 20,
   "metadata": {},
   "outputs": [],
   "source": [
    "phone_vocabs = set(train_phonetics)\n",
    "phone_vocabs.remove('h#')\n",
    "phone_vocabs = sorted(phone_vocabs)\n",
    "\n",
    "def count_frequency(phonetics):\n",
    "    phone_counts = {phone: 0 for phone in phone_vocabs}\n",
    "    for phone in phonetics:\n",
    "        if phone in phone_vocabs:\n",
    "            phone_counts[phone] += 1\n",
    "    # eliminate h# for visualization purposes\n",
    "    return [phone_counts[phone] for phone in phone_vocabs] "
   ]
  },
  {
   "cell_type": "code",
   "execution_count": 21,
   "metadata": {},
   "outputs": [],
   "source": [
    "train_phone_counts = count_frequency(train_phonetics)\n",
    "valid_phone_counts = count_frequency(valid_phonetics)\n",
    "test_phone_counts  = count_frequency(test_phonetics)\n",
    "\n",
    "train_phone_ratio = [count / sum(train_phone_counts) for count in train_phone_counts]\n",
    "valid_phone_ratio = [count / sum(valid_phone_counts) for count in valid_phone_counts]\n",
    "test_phone_ratio  = [count / sum(test_phone_counts) for count in test_phone_counts]"
   ]
  },
  {
   "cell_type": "code",
   "execution_count": 22,
   "metadata": {},
   "outputs": [
    {
     "data": {
      "image/png": "[encoded data removed]",
      "text/plain": [
       "<Figure size 2500x1000 with 1 Axes>"
      ]
     },
     "metadata": {},
     "output_type": "display_data"
    }
   ],
   "source": [
    "import matplotlib.pyplot as plt\n",
    "\n",
    "plt.figure(figsize=(25,10))\n",
    "\n",
    "plt.bar(phone_vocabs, train_phone_ratio)\n",
    "plt.bar(phone_vocabs, valid_phone_ratio, bottom=train_phone_ratio)\n",
    "plt.bar(phone_vocabs, test_phone_ratio, bottom=[(x+y) for x,y in zip(train_phone_ratio, valid_phone_ratio)])\n",
    "\n",
    "plt.show()"
   ]
  },
  {
   "cell_type": "code",
   "execution_count": 23,
   "metadata": {},
   "outputs": [],
   "source": [
    "train_dataset = (train_dataset\n",
    "                 .cast_column(\"audio_file\", Audio(sampling_rate=16_000))\n",
    "                 .rename_column('audio_file', 'audio'))\n",
    "valid_dataset = (valid_dataset\n",
    "                 .cast_column(\"audio_file\", Audio(sampling_rate=16_000))\n",
    "                 .rename_column('audio_file', 'audio'))\n",
    "test_dataset = (test_dataset\n",
    "                 .cast_column(\"audio_file\", Audio(sampling_rate=16_000))\n",
    "                 .rename_column('audio_file', 'audio'))"
   ]
  },
  {
   "cell_type": "code",
   "execution_count": 24,
   "metadata": {},
   "outputs": [
    {
     "data": {
      "text/plain": [
       "{'audio': {'path': '/Users/daiyi/Downloads/timit/data/TEST/DR7/FISB0/SA1.WAV',\n",
       "  'array': array([-6.10351562e-05,  6.10351562e-05,  1.22070312e-04, ...,\n",
       "          9.15527344e-05,  3.66210938e-04, -3.05175781e-04]),\n",
       "  'sampling_rate': 16000},\n",
       " 'text': 'she had your dark suit in greasy wash water all year',\n",
       " 'phonetic': 'h# sh iy hh ae h# d y er h# d aa r h# k s uw h# ih n h# g r iy z iy w aa sh h# w aa dx er h# aa l y ih er h#'}"
      ]
     },
     "execution_count": 24,
     "metadata": {},
     "output_type": "execute_result"
    }
   ],
   "source": [
    "train_dataset[0]"
   ]
  },
  {
   "cell_type": "code",
   "execution_count": 25,
   "metadata": {},
   "outputs": [
    {
     "name": "stdout",
     "output_type": "stream",
     "text": [
      "Text: necessary retouching was put on at once\n",
      "Phonetics: h# n eh s ih s eh r ih r iy h# t ah h# ch ih ng w ah z h# p uh dx aa n ah h# w ah n h# t s h#\n",
      "Input array shape: (42189,)\n",
      "Sampling rate: 16000\n"
     ]
    },
    {
     "data": {
      "text/html": [
       "\n",
       "                <audio  controls=\"controls\" >\n",
       "                    <source src=\"data:audio/wav;base64,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\" type=\"audio/wav\" />\n",
       "                    Your browser does not support the audio element.\n",
       "                </audio>\n",
       "              "
      ],
      "text/plain": [
       "<IPython.lib.display.Audio object>"
      ]
     },
     "execution_count": 25,
     "metadata": {},
     "output_type": "execute_result"
    }
   ],
   "source": [
    "import IPython.display as ipd\n",
    "import numpy as np\n",
    "import random\n",
    "\n",
    "rand_int = random.randint(0, len(train_dataset)-1)\n",
    "\n",
    "print(\"Text:\", train_dataset[rand_int][\"text\"])\n",
    "print(\"Phonetics:\", train_dataset[rand_int][\"phonetic\"])\n",
    "print(\"Input array shape:\", train_dataset[rand_int][\"audio\"][\"array\"].shape)\n",
    "print(\"Sampling rate:\", train_dataset[rand_int][\"audio\"][\"sampling_rate\"])\n",
    "ipd.Audio(data=train_dataset[rand_int][\"audio\"][\"array\"], autoplay=False, rate=16000)"
   ]
  },
  {
   "cell_type": "code",
   "execution_count": 26,
   "metadata": {},
   "outputs": [
    {
     "name": "stdout",
     "output_type": "stream",
     "text": [
      "{' ': 0, 'aa': 1, 'ae': 2, 'ah': 3, 'aw': 4, 'ay': 5, 'b': 6, 'ch': 7, 'd': 8, 'dh': 9, 'dx': 10, 'eh': 11, 'er': 12, 'ey': 13, 'f': 14, 'g': 15, 'h#': 16, 'hh': 17, 'ih': 18, 'iy': 19, 'jh': 20, 'k': 21, 'l': 22, 'm': 23, 'n': 24, 'ng': 25, 'ow': 26, 'oy': 27, 'p': 28, 'r': 29, 's': 30, 'sh': 31, 't': 32, 'th': 33, 'uh': 34, 'uw': 35, 'v': 36, 'w': 37, 'y': 38, 'z': 39}\n"
     ]
    }
   ],
   "source": [
    "vocab_train = list(set(train_phonetics)) + [' ']\n",
    "vocab_valid = list(set(valid_phonetics)) + [' ']\n",
    "vocab_test  = list(set(test_phonetics)) + [' ']\n",
    "\n",
    "vocab_list = list(set(vocab_train + vocab_valid + vocab_test))\n",
    "vocab_dict = {v: k for k, v in enumerate(sorted(vocab_list))}\n",
    "\n",
    "print(vocab_dict)"
   ]
  },
  {
   "cell_type": "code",
   "execution_count": 27,
   "metadata": {},
   "outputs": [
    {
     "data": {
      "text/plain": [
       "42"
      ]
     },
     "execution_count": 27,
     "metadata": {},
     "output_type": "execute_result"
    }
   ],
   "source": [
    "# make the space more intuitive to understand\n",
    "vocab_dict[\"|\"] = vocab_dict[\" \"]\n",
    "del vocab_dict[\" \"]\n",
    "\n",
    "vocab_dict[\"[UNK]\"] = len(vocab_dict)\n",
    "vocab_dict[\"[PAD]\"] = len(vocab_dict)\n",
    "len(vocab_dict)"
   ]
  },
  {
   "cell_type": "code",
   "execution_count": 28,
   "metadata": {},
   "outputs": [],
   "source": [
    "# save vocab.json\n",
    "import json\n",
    "with open('vocab.json', 'w') as vocab_file:\n",
    "    json.dump(vocab_dict, vocab_file)"
   ]
  },
  {
   "cell_type": "code",
   "execution_count": 29,
   "metadata": {},
   "outputs": [],
   "source": [
    "symbols = {\"a\": \"ə\", \"ey\": \"eɪ\", \"aa\": \"ɑ\", \"ae\": \"æ\", \"ah\": \"ə\", \"ao\": \"ɔ\",\n",
    "           \"aw\": \"aʊ\", \"ay\": \"aɪ\", \"ch\": \"ʧ\", \"dh\": \"ð\", \"eh\": \"ɛ\", \"er\": \"ər\",\n",
    "           \"hh\": \"h\", \"ih\": \"ɪ\", \"jh\": \"ʤ\", \"ng\": \"ŋ\",  \"ow\": \"oʊ\", \"oy\": \"ɔɪ\",\n",
    "           \"sh\": \"ʃ\", \"th\": \"θ\", \"uh\": \"ʊ\", \"uw\": \"u\", \"zh\": \"ʒ\", \"iy\": \"i\", \"y\": \"j\"}"
   ]
  },
  {
   "cell_type": "code",
   "execution_count": 30,
   "metadata": {},
   "outputs": [],
   "source": [
    "from transformers import Wav2Vec2CTCTokenizer\n",
    "from transformers import Wav2Vec2FeatureExtractor\n",
    "from transformers import Wav2Vec2Processor\n",
    "from tokenizers.processors import TemplateProcessing"
   ]
  },
  {
   "cell_type": "code",
   "execution_count": 31,
   "metadata": {},
   "outputs": [
    {
     "name": "stderr",
     "output_type": "stream",
     "text": [
      "Special tokens have been added in the vocabulary, make sure the associated word embeddings are fine-tuned or trained.\n"
     ]
    }
   ],
   "source": [
    "tokenizer = Wav2Vec2CTCTokenizer.from_pretrained(\"./\", unk_token=\"[UNK]\", pad_token=\"[PAD]\", word_delimiter_token=\"|\", )  # './' load vocab.json in the current directory\n",
    "feature_extractor = Wav2Vec2FeatureExtractor(feature_size=1, sampling_rate=16000, padding_value=0.0, do_normalize=True, return_attention_mask=True)  \n",
    "processor = Wav2Vec2Processor(feature_extractor=feature_extractor, tokenizer=tokenizer)"
   ]
  },
  {
   "cell_type": "code",
   "execution_count": 32,
   "metadata": {},
   "outputs": [],
   "source": [
    "# This does not prepare the input for the Transformer model.\n",
    "# This will resample the data and convert the sentence into indices\n",
    "# Batch here is just for one entry (row)\n",
    "def prepare_dataset(batch):\n",
    "    audio = batch[\"audio\"]\n",
    "    \n",
    "    # batched output is \"un-batched\"\n",
    "    batch[\"input_values\"] = processor(audio[\"array\"], sampling_rate=audio[\"sampling_rate\"]).input_values[0]\n",
    "    batch[\"input_length\"] = len(batch[\"input_values\"])\n",
    "    \n",
    "    with processor.as_target_processor():\n",
    "        batch[\"labels\"] = processor(batch[\"phonetic\"]).input_ids\n",
    "    return batch"
   ]
  },
  {
   "cell_type": "code",
   "execution_count": 33,
   "metadata": {},
   "outputs": [
    {
     "data": {
      "application/vnd.jupyter.widget-view+json": {
       "model_id": "b1e0976ab6dc4d2ba10287995f6b8bfc",
       "version_major": 2,
       "version_minor": 0
      },
      "text/plain": [
       "Map:   0%|          | 0/2688 [00:00<?, ? examples/s]"
      ]
     },
     "metadata": {},
     "output_type": "display_data"
    },
    {
     "name": "stderr",
     "output_type": "stream",
     "text": [
      "/Users/daiyi/miniconda3/lib/python3.9/site-packages/transformers/models/wav2vec2/processing_wav2vec2.py:155: UserWarning: `as_target_processor` is deprecated and will be removed in v5 of Transformers. You can process your labels by using the argument `text` of the regular `__call__` method (either in the same call as your audio inputs, or in a separate call.\n",
      "  warnings.warn(\n"
     ]
    },
    {
     "data": {
      "application/vnd.jupyter.widget-view+json": {
       "model_id": "ae957c9b970943418c5eb5d0e2436ac4",
       "version_major": 2,
       "version_minor": 0
      },
      "text/plain": [
       "Map:   0%|          | 0/336 [00:00<?, ? examples/s]"
      ]
     },
     "metadata": {},
     "output_type": "display_data"
    },
    {
     "data": {
      "application/vnd.jupyter.widget-view+json": {
       "model_id": "c92d6fcee95d44b6bada16ca63bf3379",
       "version_major": 2,
       "version_minor": 0
      },
      "text/plain": [
       "Map:   0%|          | 0/336 [00:00<?, ? examples/s]"
      ]
     },
     "metadata": {},
     "output_type": "display_data"
    }
   ],
   "source": [
    "# train_dataset = train_dataset.map(prepare_dataset, remove_columns=train_dataset.column_names)\n",
    "# valid_dataset = valid_dataset.map(prepare_dataset, remove_columns=valid_dataset.column_names)\n",
    "# test_dataset = test_dataset.map(prepare_dataset, remove_columns=test_dataset.column_names)\n",
    "train_dataset = train_dataset.map(prepare_dataset)\n",
    "valid_dataset = valid_dataset.map(prepare_dataset)\n",
    "test_dataset = test_dataset.map(prepare_dataset)"
   ]
  },
  {
   "cell_type": "code",
   "execution_count": 34,
   "metadata": {},
   "outputs": [],
   "source": [
    "import torch\n",
    "\n",
    "from dataclasses import dataclass, field\n",
    "from typing import Any, Dict, List, Optional, Union\n",
    "\n",
    "@dataclass\n",
    "class DataCollatorCTCWithPadding:\n",
    "    \"\"\"\n",
    "    Data collator that will dynamically pad the inputs received.\n",
    "    Args:\n",
    "        processor (:class:`~transformers.Wav2Vec2Processor`)\n",
    "            The processor used for proccessing the data.\n",
    "        padding (:obj:`bool`, :obj:`str` or :class:`~transformers.tokenization_utils_base.PaddingStrategy`, `optional`, defaults to :obj:`True`):\n",
    "            Select a strategy to pad the returned sequences (according to the model's padding side and padding index)\n",
    "            among:\n",
    "            * :obj:`True` or :obj:`'longest'`: Pad to the longest sequence in the batch (or no padding if only a single\n",
    "              sequence if provided).\n",
    "            * :obj:`'max_length'`: Pad to a maximum length specified with the argument :obj:`max_length` or to the\n",
    "              maximum acceptable input length for the model if that argument is not provided.\n",
    "            * :obj:`False` or :obj:`'do_not_pad'` (default): No padding (i.e., can output a batch with sequences of\n",
    "              different lengths).\n",
    "    \"\"\"\n",
    "\n",
    "    processor: Wav2Vec2Processor\n",
    "    padding: Union[bool, str] = True\n",
    "    \n",
    "    def __call__(self, features: List[Dict[str, Union[List[int], torch.Tensor]]]) -> Dict[str, torch.Tensor]:\n",
    "        # split inputs and labels since they have to be of different lenghts and need\n",
    "        # different padding methods\n",
    "        input_features = [{\"input_values\": feature[\"input_values\"]} for feature in features]\n",
    "        label_features = [{\"input_ids\": feature[\"labels\"]} for feature in features]\n",
    "\n",
    "        batch = self.processor.pad(\n",
    "            input_features,\n",
    "            padding=self.padding,\n",
    "            return_tensors=\"pt\",\n",
    "        )\n",
    "\n",
    "        with self.processor.as_target_processor():\n",
    "            labels_batch = self.processor.pad(\n",
    "                label_features,\n",
    "                padding=self.padding,\n",
    "                return_tensors=\"pt\",\n",
    "            )\n",
    "\n",
    "        # replace padding with -100 to ignore loss correctly\n",
    "        labels = labels_batch[\"input_ids\"].masked_fill(labels_batch.attention_mask.ne(1), -100)\n",
    "\n",
    "        batch[\"labels\"] = labels\n",
    "\n",
    "        return batch"
   ]
  },
  {
   "cell_type": "code",
   "execution_count": 35,
   "metadata": {},
   "outputs": [],
   "source": [
    "def compute_metrics(pred):\n",
    "    pred_logits = pred.predictions\n",
    "    pred_ids = np.argmax(pred_logits, axis=-1)\n",
    "\n",
    "    pred.label_ids[pred.label_ids == -100] = tokenizer.pad_token_id\n",
    "\n",
    "    pred_str = tokenizer.batch_decode(pred_ids)\n",
    "    label_str = tokenizer.batch_decode(pred.label_ids, group_tokens=False)\n",
    "    \n",
    "    wer = wer_metric.compute(predictions=pred_str, references=label_str)\n",
    "    cer = cer_metric.compute(predictions=pred_str, references=label_str)\n",
    "\n",
    "    return {\n",
    "        \"wer\": wer,\n",
    "        \"cer\": cer\n",
    "    }"
   ]
  },
  {
   "cell_type": "code",
   "execution_count": 36,
   "metadata": {},
   "outputs": [
    {
     "name": "stderr",
     "output_type": "stream",
     "text": [
      "/var/folders/cl/b90dk1yj5lqf8m4sg5m58_lw0000gn/T/ipykernel_59963/3900842988.py:2: FutureWarning: load_metric is deprecated and will be removed in the next major version of datasets. Use 'evaluate.load' instead, from the new library 🤗 Evaluate: https://huggingface.co/docs/evaluate\n",
      "  wer_metric = load_metric(\"wer\")\n"
     ]
    },
    {
     "data": {
      "application/vnd.jupyter.widget-view+json": {
       "model_id": "908d19f402cf44bf8a49cd4b79b5e3cc",
       "version_major": 2,
       "version_minor": 0
      },
      "text/plain": [
       "Downloading builder script:   0%|          | 0.00/1.90k [00:00<?, ?B/s]"
      ]
     },
     "metadata": {},
     "output_type": "display_data"
    },
    {
     "data": {
      "application/vnd.jupyter.widget-view+json": {
       "model_id": "12831aff0dd142298397a848c86954ff",
       "version_major": 2,
       "version_minor": 0
      },
      "text/plain": [
       "Downloading builder script:   0%|          | 0.00/2.16k [00:00<?, ?B/s]"
      ]
     },
     "metadata": {},
     "output_type": "display_data"
    }
   ],
   "source": [
    "data_collator = DataCollatorCTCWithPadding(processor=processor, padding=True)\n",
    "wer_metric = load_metric(\"wer\")\n",
    "cer_metric = load_metric(\"cer\")"
   ]
  },
  {
   "cell_type": "code",
   "execution_count": 37,
   "metadata": {},
   "outputs": [
    {
     "data": {
      "application/vnd.jupyter.widget-view+json": {
       "model_id": "b9043c11a62e4cf8bc7581dbc1b66831",
       "version_major": 2,
       "version_minor": 0
      },
      "text/plain": [
       "Downloading config.json:   0%|          | 0.00/1.57k [00:00<?, ?B/s]"
      ]
     },
     "metadata": {},
     "output_type": "display_data"
    },
    {
     "data": {
      "application/vnd.jupyter.widget-view+json": {
       "model_id": "82936d6e528d4fdfb63f0ca5af216915",
       "version_major": 2,
       "version_minor": 0
      },
      "text/plain": [
       "Downloading pytorch_model.bin:   0%|          | 0.00/1.27G [00:00<?, ?B/s]"
      ]
     },
     "metadata": {},
     "output_type": "display_data"
    },
    {
     "name": "stderr",
     "output_type": "stream",
     "text": [
      "Some weights of Wav2Vec2ForCTC were not initialized from the model checkpoint at facebook/wav2vec2-xls-r-300m and are newly initialized: ['wav2vec2.encoder.pos_conv_embed.conv.parametrizations.weight.original0', 'lm_head.bias', 'wav2vec2.encoder.pos_conv_embed.conv.parametrizations.weight.original1', 'lm_head.weight']\n",
      "You should probably TRAIN this model on a down-stream task to be able to use it for predictions and inference.\n"
     ]
    }
   ],
   "source": [
    "from transformers import Wav2Vec2ForCTC\n",
    "\n",
    "model = Wav2Vec2ForCTC.from_pretrained(\n",
    "    \"facebook/wav2vec2-xls-r-300m\", \n",
    "    attention_dropout=0.1,\n",
    "    layerdrop=0.0,\n",
    "    feat_proj_dropout=0.0,\n",
    "    mask_time_prob=0.75, \n",
    "    mask_time_length=10,\n",
    "    mask_feature_prob=0.25,\n",
    "    mask_feature_length=64,\n",
    "    ctc_loss_reduction=\"mean\",\n",
    "    pad_token_id=processor.tokenizer.pad_token_id,\n",
    "    vocab_size=len(processor.tokenizer)\n",
    ")"
   ]
  },
  {
   "cell_type": "code",
   "execution_count": 38,
   "metadata": {},
   "outputs": [],
   "source": [
    "model.freeze_feature_encoder()"
   ]
  },
  {
   "cell_type": "code",
   "execution_count": 48,
   "metadata": {},
   "outputs": [
    {
     "name": "stderr",
     "output_type": "stream",
     "text": [
      "Using the `WANDB_DISABLED` environment variable is deprecated and will be removed in v5. Use the --report_to flag to control the integrations used for logging result (for instance --report_to none).\n"
     ]
    }
   ],
   "source": [
    "from transformers import TrainingArguments\n",
    "\n",
    "training_args = TrainingArguments(\n",
    "    output_dir='output/',\n",
    "    group_by_length=True,\n",
    "    per_device_train_batch_size=8,\n",
    "    gradient_accumulation_steps=4,\n",
    "    evaluation_strategy=\"steps\",\n",
    "    gradient_checkpointing=True,\n",
    "    fp16=False,\n",
    "    max_steps=10000,\n",
    "    save_steps=1000,  #100,\n",
    "    eval_steps=1000,\n",
    "    logging_steps=100,\n",
    "    learning_rate=3e-5,\n",
    "    warmup_steps=2000,\n",
    "    save_total_limit=3,\n",
    "    load_best_model_at_end=True,\n",
    "    use_mps_device=False,\n",
    "    use_cpu=True\n",
    ")"
   ]
  },
  {
   "cell_type": "code",
   "execution_count": 49,
   "metadata": {},
   "outputs": [],
   "source": [
    "from transformers import Trainer\n",
    "\n",
    "trainer = Trainer(\n",
    "    model=model,\n",
    "    data_collator=data_collator,\n",
    "    args=training_args,\n",
    "    compute_metrics=compute_metrics,\n",
    "    train_dataset=train_dataset,\n",
    "    eval_dataset=valid_dataset,\n",
    "    tokenizer=processor.feature_extractor\n",
    ")"
   ]
  },
  {
   "cell_type": "code",
   "execution_count": 51,
   "metadata": {},
   "outputs": [
    {
     "data": {
      "application/vnd.jupyter.widget-view+json": {
       "model_id": "a57ab69d1b9a40a6bc11070b9394e3a7",
       "version_major": 2,
       "version_minor": 0
      },
      "text/plain": [
       "  0%|          | 0/10000 [00:00<?, ?it/s]"
      ]
     },
     "metadata": {},
     "output_type": "display_data"
    },
    {
     "ename": "NotImplementedError",
     "evalue": "The operator 'aten::_ctc_loss' is not currently implemented for the MPS device. If you want this op to be added in priority during the prototype phase of this feature, please comment on https://github.com/pytorch/pytorch/issues/77764. As a temporary fix, you can set the environment variable `PYTORCH_ENABLE_MPS_FALLBACK=1` to use the CPU as a fallback for this op. WARNING: this will be slower than running natively on MPS.",
     "output_type": "error",
     "traceback": [
      "\u001b[0;31m---------------------------------------------------------------------------\u001b[0m",
      "\u001b[0;31mNotImplementedError\u001b[0m                       Traceback (most recent call last)",
      "Cell \u001b[0;32mIn[51], line 3\u001b[0m\n\u001b[1;32m      1\u001b[0m os\u001b[39m.\u001b[39menviron[\u001b[39m\"\u001b[39m\u001b[39mWANDB_DISABLED\u001b[39m\u001b[39m\"\u001b[39m] \u001b[39m=\u001b[39m \u001b[39m\"\u001b[39m\u001b[39mtrue\u001b[39m\u001b[39m\"\u001b[39m\n\u001b[1;32m      2\u001b[0m os\u001b[39m.\u001b[39menviron[\u001b[39m\"\u001b[39m\u001b[39mPYTORCH_ENABLE_MPS_FALLBACK\u001b[39m\u001b[39m\"\u001b[39m]\u001b[39m=\u001b[39m\u001b[39m\"\u001b[39m\u001b[39m1\u001b[39m\u001b[39m\"\u001b[39m\n\u001b[0;32m----> 3\u001b[0m trainer\u001b[39m.\u001b[39;49mtrain()\n",
      "File \u001b[0;32m~/miniconda3/lib/python3.9/site-packages/transformers/trainer.py:1539\u001b[0m, in \u001b[0;36mTrainer.train\u001b[0;34m(self, resume_from_checkpoint, trial, ignore_keys_for_eval, **kwargs)\u001b[0m\n\u001b[1;32m   1534\u001b[0m     \u001b[39mself\u001b[39m\u001b[39m.\u001b[39mmodel_wrapped \u001b[39m=\u001b[39m \u001b[39mself\u001b[39m\u001b[39m.\u001b[39mmodel\n\u001b[1;32m   1536\u001b[0m inner_training_loop \u001b[39m=\u001b[39m find_executable_batch_size(\n\u001b[1;32m   1537\u001b[0m     \u001b[39mself\u001b[39m\u001b[39m.\u001b[39m_inner_training_loop, \u001b[39mself\u001b[39m\u001b[39m.\u001b[39m_train_batch_size, args\u001b[39m.\u001b[39mauto_find_batch_size\n\u001b[1;32m   1538\u001b[0m )\n\u001b[0;32m-> 1539\u001b[0m \u001b[39mreturn\u001b[39;00m inner_training_loop(\n\u001b[1;32m   1540\u001b[0m     args\u001b[39m=\u001b[39;49margs,\n\u001b[1;32m   1541\u001b[0m     resume_from_checkpoint\u001b[39m=\u001b[39;49mresume_from_checkpoint,\n\u001b[1;32m   1542\u001b[0m     trial\u001b[39m=\u001b[39;49mtrial,\n\u001b[1;32m   1543\u001b[0m     ignore_keys_for_eval\u001b[39m=\u001b[39;49mignore_keys_for_eval,\n\u001b[1;32m   1544\u001b[0m )\n",
      "File \u001b[0;32m~/miniconda3/lib/python3.9/site-packages/transformers/trainer.py:1809\u001b[0m, in \u001b[0;36mTrainer._inner_training_loop\u001b[0;34m(self, batch_size, args, resume_from_checkpoint, trial, ignore_keys_for_eval)\u001b[0m\n\u001b[1;32m   1806\u001b[0m     \u001b[39mself\u001b[39m\u001b[39m.\u001b[39mcontrol \u001b[39m=\u001b[39m \u001b[39mself\u001b[39m\u001b[39m.\u001b[39mcallback_handler\u001b[39m.\u001b[39mon_step_begin(args, \u001b[39mself\u001b[39m\u001b[39m.\u001b[39mstate, \u001b[39mself\u001b[39m\u001b[39m.\u001b[39mcontrol)\n\u001b[1;32m   1808\u001b[0m \u001b[39mwith\u001b[39;00m \u001b[39mself\u001b[39m\u001b[39m.\u001b[39maccelerator\u001b[39m.\u001b[39maccumulate(model):\n\u001b[0;32m-> 1809\u001b[0m     tr_loss_step \u001b[39m=\u001b[39m \u001b[39mself\u001b[39;49m\u001b[39m.\u001b[39;49mtraining_step(model, inputs)\n\u001b[1;32m   1811\u001b[0m \u001b[39mif\u001b[39;00m (\n\u001b[1;32m   1812\u001b[0m     args\u001b[39m.\u001b[39mlogging_nan_inf_filter\n\u001b[1;32m   1813\u001b[0m     \u001b[39mand\u001b[39;00m \u001b[39mnot\u001b[39;00m is_torch_tpu_available()\n\u001b[1;32m   1814\u001b[0m     \u001b[39mand\u001b[39;00m (torch\u001b[39m.\u001b[39misnan(tr_loss_step) \u001b[39mor\u001b[39;00m torch\u001b[39m.\u001b[39misinf(tr_loss_step))\n\u001b[1;32m   1815\u001b[0m ):\n\u001b[1;32m   1816\u001b[0m     \u001b[39m# if loss is nan or inf simply add the average of previous logged losses\u001b[39;00m\n\u001b[1;32m   1817\u001b[0m     tr_loss \u001b[39m+\u001b[39m\u001b[39m=\u001b[39m tr_loss \u001b[39m/\u001b[39m (\u001b[39m1\u001b[39m \u001b[39m+\u001b[39m \u001b[39mself\u001b[39m\u001b[39m.\u001b[39mstate\u001b[39m.\u001b[39mglobal_step \u001b[39m-\u001b[39m \u001b[39mself\u001b[39m\u001b[39m.\u001b[39m_globalstep_last_logged)\n",
      "File \u001b[0;32m~/miniconda3/lib/python3.9/site-packages/transformers/trainer.py:2654\u001b[0m, in \u001b[0;36mTrainer.training_step\u001b[0;34m(self, model, inputs)\u001b[0m\n\u001b[1;32m   2651\u001b[0m     \u001b[39mreturn\u001b[39;00m loss_mb\u001b[39m.\u001b[39mreduce_mean()\u001b[39m.\u001b[39mdetach()\u001b[39m.\u001b[39mto(\u001b[39mself\u001b[39m\u001b[39m.\u001b[39margs\u001b[39m.\u001b[39mdevice)\n\u001b[1;32m   2653\u001b[0m \u001b[39mwith\u001b[39;00m \u001b[39mself\u001b[39m\u001b[39m.\u001b[39mcompute_loss_context_manager():\n\u001b[0;32m-> 2654\u001b[0m     loss \u001b[39m=\u001b[39m \u001b[39mself\u001b[39;49m\u001b[39m.\u001b[39;49mcompute_loss(model, inputs)\n\u001b[1;32m   2656\u001b[0m \u001b[39mif\u001b[39;00m \u001b[39mself\u001b[39m\u001b[39m.\u001b[39margs\u001b[39m.\u001b[39mn_gpu \u001b[39m>\u001b[39m \u001b[39m1\u001b[39m:\n\u001b[1;32m   2657\u001b[0m     loss \u001b[39m=\u001b[39m loss\u001b[39m.\u001b[39mmean()  \u001b[39m# mean() to average on multi-gpu parallel training\u001b[39;00m\n",
      "File \u001b[0;32m~/miniconda3/lib/python3.9/site-packages/transformers/trainer.py:2679\u001b[0m, in \u001b[0;36mTrainer.compute_loss\u001b[0;34m(self, model, inputs, return_outputs)\u001b[0m\n\u001b[1;32m   2677\u001b[0m \u001b[39melse\u001b[39;00m:\n\u001b[1;32m   2678\u001b[0m     labels \u001b[39m=\u001b[39m \u001b[39mNone\u001b[39;00m\n\u001b[0;32m-> 2679\u001b[0m outputs \u001b[39m=\u001b[39m model(\u001b[39m*\u001b[39;49m\u001b[39m*\u001b[39;49minputs)\n\u001b[1;32m   2680\u001b[0m \u001b[39m# Save past state if it exists\u001b[39;00m\n\u001b[1;32m   2681\u001b[0m \u001b[39m# TODO: this needs to be fixed and made cleaner later.\u001b[39;00m\n\u001b[1;32m   2682\u001b[0m \u001b[39mif\u001b[39;00m \u001b[39mself\u001b[39m\u001b[39m.\u001b[39margs\u001b[39m.\u001b[39mpast_index \u001b[39m>\u001b[39m\u001b[39m=\u001b[39m \u001b[39m0\u001b[39m:\n",
      "File \u001b[0;32m~/miniconda3/lib/python3.9/site-packages/torch/nn/modules/module.py:1511\u001b[0m, in \u001b[0;36mModule._wrapped_call_impl\u001b[0;34m(self, *args, **kwargs)\u001b[0m\n\u001b[1;32m   1509\u001b[0m     \u001b[39mreturn\u001b[39;00m \u001b[39mself\u001b[39m\u001b[39m.\u001b[39m_compiled_call_impl(\u001b[39m*\u001b[39margs, \u001b[39m*\u001b[39m\u001b[39m*\u001b[39mkwargs)  \u001b[39m# type: ignore[misc]\u001b[39;00m\n\u001b[1;32m   1510\u001b[0m \u001b[39melse\u001b[39;00m:\n\u001b[0;32m-> 1511\u001b[0m     \u001b[39mreturn\u001b[39;00m \u001b[39mself\u001b[39;49m\u001b[39m.\u001b[39;49m_call_impl(\u001b[39m*\u001b[39;49margs, \u001b[39m*\u001b[39;49m\u001b[39m*\u001b[39;49mkwargs)\n",
      "File \u001b[0;32m~/miniconda3/lib/python3.9/site-packages/torch/nn/modules/module.py:1520\u001b[0m, in \u001b[0;36mModule._call_impl\u001b[0;34m(self, *args, **kwargs)\u001b[0m\n\u001b[1;32m   1515\u001b[0m \u001b[39m# If we don't have any hooks, we want to skip the rest of the logic in\u001b[39;00m\n\u001b[1;32m   1516\u001b[0m \u001b[39m# this function, and just call forward.\u001b[39;00m\n\u001b[1;32m   1517\u001b[0m \u001b[39mif\u001b[39;00m \u001b[39mnot\u001b[39;00m (\u001b[39mself\u001b[39m\u001b[39m.\u001b[39m_backward_hooks \u001b[39mor\u001b[39;00m \u001b[39mself\u001b[39m\u001b[39m.\u001b[39m_backward_pre_hooks \u001b[39mor\u001b[39;00m \u001b[39mself\u001b[39m\u001b[39m.\u001b[39m_forward_hooks \u001b[39mor\u001b[39;00m \u001b[39mself\u001b[39m\u001b[39m.\u001b[39m_forward_pre_hooks\n\u001b[1;32m   1518\u001b[0m         \u001b[39mor\u001b[39;00m _global_backward_pre_hooks \u001b[39mor\u001b[39;00m _global_backward_hooks\n\u001b[1;32m   1519\u001b[0m         \u001b[39mor\u001b[39;00m _global_forward_hooks \u001b[39mor\u001b[39;00m _global_forward_pre_hooks):\n\u001b[0;32m-> 1520\u001b[0m     \u001b[39mreturn\u001b[39;00m forward_call(\u001b[39m*\u001b[39;49margs, \u001b[39m*\u001b[39;49m\u001b[39m*\u001b[39;49mkwargs)\n\u001b[1;32m   1522\u001b[0m \u001b[39mtry\u001b[39;00m:\n\u001b[1;32m   1523\u001b[0m     result \u001b[39m=\u001b[39m \u001b[39mNone\u001b[39;00m\n",
      "File \u001b[0;32m~/miniconda3/lib/python3.9/site-packages/transformers/models/wav2vec2/modeling_wav2vec2.py:1997\u001b[0m, in \u001b[0;36mWav2Vec2ForCTC.forward\u001b[0;34m(self, input_values, attention_mask, output_attentions, output_hidden_states, return_dict, labels)\u001b[0m\n\u001b[1;32m   1994\u001b[0m     log_probs \u001b[39m=\u001b[39m nn\u001b[39m.\u001b[39mfunctional\u001b[39m.\u001b[39mlog_softmax(logits, dim\u001b[39m=\u001b[39m\u001b[39m-\u001b[39m\u001b[39m1\u001b[39m, dtype\u001b[39m=\u001b[39mtorch\u001b[39m.\u001b[39mfloat32)\u001b[39m.\u001b[39mtranspose(\u001b[39m0\u001b[39m, \u001b[39m1\u001b[39m)\n\u001b[1;32m   1996\u001b[0m     \u001b[39mwith\u001b[39;00m torch\u001b[39m.\u001b[39mbackends\u001b[39m.\u001b[39mcudnn\u001b[39m.\u001b[39mflags(enabled\u001b[39m=\u001b[39m\u001b[39mFalse\u001b[39;00m):\n\u001b[0;32m-> 1997\u001b[0m         loss \u001b[39m=\u001b[39m nn\u001b[39m.\u001b[39;49mfunctional\u001b[39m.\u001b[39;49mctc_loss(\n\u001b[1;32m   1998\u001b[0m             log_probs,\n\u001b[1;32m   1999\u001b[0m             flattened_targets,\n\u001b[1;32m   2000\u001b[0m             input_lengths,\n\u001b[1;32m   2001\u001b[0m             target_lengths,\n\u001b[1;32m   2002\u001b[0m             blank\u001b[39m=\u001b[39;49m\u001b[39mself\u001b[39;49m\u001b[39m.\u001b[39;49mconfig\u001b[39m.\u001b[39;49mpad_token_id,\n\u001b[1;32m   2003\u001b[0m             reduction\u001b[39m=\u001b[39;49m\u001b[39mself\u001b[39;49m\u001b[39m.\u001b[39;49mconfig\u001b[39m.\u001b[39;49mctc_loss_reduction,\n\u001b[1;32m   2004\u001b[0m             zero_infinity\u001b[39m=\u001b[39;49m\u001b[39mself\u001b[39;49m\u001b[39m.\u001b[39;49mconfig\u001b[39m.\u001b[39;49mctc_zero_infinity,\n\u001b[1;32m   2005\u001b[0m         )\n\u001b[1;32m   2007\u001b[0m \u001b[39mif\u001b[39;00m \u001b[39mnot\u001b[39;00m return_dict:\n\u001b[1;32m   2008\u001b[0m     output \u001b[39m=\u001b[39m (logits,) \u001b[39m+\u001b[39m outputs[_HIDDEN_STATES_START_POSITION:]\n",
      "File \u001b[0;32m~/miniconda3/lib/python3.9/site-packages/torch/nn/functional.py:2660\u001b[0m, in \u001b[0;36mctc_loss\u001b[0;34m(log_probs, targets, input_lengths, target_lengths, blank, reduction, zero_infinity)\u001b[0m\n\u001b[1;32m   2653\u001b[0m \u001b[39mif\u001b[39;00m has_torch_function_variadic(log_probs, targets, input_lengths, target_lengths):\n\u001b[1;32m   2654\u001b[0m     \u001b[39mreturn\u001b[39;00m handle_torch_function(\n\u001b[1;32m   2655\u001b[0m         ctc_loss,\n\u001b[1;32m   2656\u001b[0m         (log_probs, targets, input_lengths, target_lengths),\n\u001b[1;32m   2657\u001b[0m         log_probs, targets, input_lengths, target_lengths,\n\u001b[1;32m   2658\u001b[0m         blank\u001b[39m=\u001b[39mblank, reduction\u001b[39m=\u001b[39mreduction, zero_infinity\u001b[39m=\u001b[39mzero_infinity\n\u001b[1;32m   2659\u001b[0m     )\n\u001b[0;32m-> 2660\u001b[0m \u001b[39mreturn\u001b[39;00m torch\u001b[39m.\u001b[39;49mctc_loss(\n\u001b[1;32m   2661\u001b[0m     log_probs, targets, input_lengths, target_lengths, blank, _Reduction\u001b[39m.\u001b[39;49mget_enum(reduction), zero_infinity\n\u001b[1;32m   2662\u001b[0m )\n",
      "\u001b[0;31mNotImplementedError\u001b[0m: The operator 'aten::_ctc_loss' is not currently implemented for the MPS device. If you want this op to be added in priority during the prototype phase of this feature, please comment on https://github.com/pytorch/pytorch/issues/77764. As a temporary fix, you can set the environment variable `PYTORCH_ENABLE_MPS_FALLBACK=1` to use the CPU as a fallback for this op. WARNING: this will be slower than running natively on MPS."
     ]
    }
   ],
   "source": [
    "os.environ[\"WANDB_DISABLED\"] = \"true\"\n",
    "os.environ[\"PYTORCH_ENABLE_MPS_FALLBACK\"]=\"1\"\n",
    "trainer.train()"
   ]
  }
 ],
 "metadata": {
  "kernelspec": {
   "display_name": "base",
   "language": "python",
   "name": "python3"
  },
  "language_info": {
   "codemirror_mode": {
    "name": "ipython",
    "version": 3
   },
   "file_extension": ".py",
   "mimetype": "text/x-python",
   "name": "python",
   "nbconvert_exporter": "python",
   "pygments_lexer": "ipython3",
   "version": "3.9.16"
  }
 },
 "nbformat": 4,
 "nbformat_minor": 2
}
